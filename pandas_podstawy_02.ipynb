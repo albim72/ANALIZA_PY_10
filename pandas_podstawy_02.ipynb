{
 "cells":[
  {
   "cell_type":"code",
   "source":[
    "import pandas as pd\n",
    "from pandas import Series,DataFrame\n",
    "import numpy as np\n",
    "import matplotlib.pyplot as plt"
   ],
   "execution_count":1,
   "outputs":[
    
   ],
   "metadata":{
    "datalore":{
     "node_id":"oRSAj8pqZ6iHGSFhUPc5Ft",
     "type":"CODE",
     "hide_input_from_viewers":true,
     "hide_output_from_viewers":true
    }
   }
  },
  {
   "cell_type":"code",
   "source":[
    "obj = pd.Series([4,-9,7,23])\n",
    "obj"
   ],
   "execution_count":2,
   "outputs":[
    {
     "data":{
      "text\/html":[
       "<pre>0     4\n",
       "1    -9\n",
       "2     7\n",
       "3    23\n",
       "dtype: int64<\/pre>"
      ]
     },
     "metadata":{
      
     },
     "output_type":"display_data"
    }
   ],
   "metadata":{
    "datalore":{
     "node_id":"dfy2JSSoGZDGMLP4Em1FWF",
     "type":"CODE",
     "hide_input_from_viewers":true,
     "hide_output_from_viewers":true
    }
   }
  },
  {
   "cell_type":"code",
   "source":[
    "print(type(obj))"
   ],
   "execution_count":3,
   "outputs":[
    {
     "name":"stdout",
     "text":[
      "<class 'pandas.core.series.Series'>\n"
     ],
     "output_type":"stream"
    }
   ],
   "metadata":{
    "datalore":{
     "node_id":"uIoOWTp3mQtsM7HqncPwFn",
     "type":"CODE",
     "hide_input_from_viewers":true,
     "hide_output_from_viewers":true
    }
   }
  },
  {
   "cell_type":"code",
   "source":[
    "obj.values"
   ],
   "execution_count":4,
   "outputs":[
    {
     "data":{
      "text\/html":[
       "<pre>array([ 4, -9,  7, 23])<\/pre>"
      ]
     },
     "metadata":{
      
     },
     "output_type":"display_data"
    }
   ],
   "metadata":{
    "datalore":{
     "node_id":"5B4uGnx0oMlS5bCKADMqfd",
     "type":"CODE",
     "hide_input_from_viewers":true,
     "hide_output_from_viewers":true
    }
   }
  },
  {
   "cell_type":"code",
   "source":[
    "obj.index"
   ],
   "execution_count":5,
   "outputs":[
    {
     "data":{
      "text\/plain":[
       "RangeIndex(start=0, stop=4, step=1)"
      ]
     },
     "metadata":{
      
     },
     "output_type":"display_data"
    }
   ],
   "metadata":{
    "datalore":{
     "node_id":"XLpW8W5DoVlyKSFzUQc9jh",
     "type":"CODE",
     "hide_input_from_viewers":true,
     "hide_output_from_viewers":true
    }
   }
  },
  {
   "cell_type":"code",
   "source":[
    "obj2 = pd.Series([45,6,8,12,34,6],index=['a','p','c','d','e','k'])\n",
    "obj2"
   ],
   "execution_count":6,
   "outputs":[
    {
     "data":{
      "text\/html":[
       "<pre>a    45\n",
       "p     6\n",
       "c     8\n",
       "d    12\n",
       "e    34\n",
       "k     6\n",
       "dtype: int64<\/pre>"
      ]
     },
     "metadata":{
      
     },
     "output_type":"display_data"
    }
   ],
   "metadata":{
    "datalore":{
     "node_id":"npg7lZvOuEARZ4G7dd24Kr",
     "type":"CODE",
     "hide_input_from_viewers":true,
     "hide_output_from_viewers":true
    }
   }
  },
  {
   "cell_type":"code",
   "source":[
    "obj2['k']"
   ],
   "execution_count":8,
   "outputs":[
    {
     "data":{
      "text\/plain":[
       "6"
      ]
     },
     "metadata":{
      
     },
     "output_type":"display_data"
    }
   ],
   "metadata":{
    "datalore":{
     "node_id":"XCgp1btdACtew1xW6QIY3L",
     "type":"CODE",
     "hide_input_from_viewers":true,
     "hide_output_from_viewers":true
    }
   }
  },
  {
   "cell_type":"code",
   "source":[
    "obj2['a'] = 222\n",
    "obj2"
   ],
   "execution_count":9,
   "outputs":[
    {
     "data":{
      "text\/html":[
       "<pre>a    222\n",
       "p      6\n",
       "c      8\n",
       "d     12\n",
       "e     34\n",
       "k      6\n",
       "dtype: int64<\/pre>"
      ]
     },
     "metadata":{
      
     },
     "output_type":"display_data"
    }
   ],
   "metadata":{
    "datalore":{
     "node_id":"HSdWdYqHjwBpJYgcZRXeCY",
     "type":"CODE",
     "hide_input_from_viewers":true,
     "hide_output_from_viewers":true
    }
   }
  },
  {
   "cell_type":"code",
   "source":[
    "obj2[obj2>10]"
   ],
   "execution_count":10,
   "outputs":[
    {
     "data":{
      "text\/html":[
       "<pre>a    222\n",
       "d     12\n",
       "e     34\n",
       "dtype: int64<\/pre>"
      ]
     },
     "metadata":{
      
     },
     "output_type":"display_data"
    }
   ],
   "metadata":{
    "datalore":{
     "node_id":"hinTD7DgMlc0VeyEAiTMnZ",
     "type":"CODE",
     "hide_input_from_viewers":true,
     "hide_output_from_viewers":true
    }
   }
  },
  {
   "cell_type":"code",
   "source":[
    "sdata = {'Warszawa':45100, 'Kraków':38900, 'Lublin':39876, 'Gdańsk':41560}\n",
    "obj3 = pd.Series(sdata)\n",
    "obj3"
   ],
   "execution_count":11,
   "outputs":[
    {
     "data":{
      "text\/html":[
       "<pre>Warszawa    45100\n",
       "Kraków      38900\n",
       "Lublin      39876\n",
       "Gdańsk      41560\n",
       "dtype: int64<\/pre>"
      ]
     },
     "metadata":{
      
     },
     "output_type":"display_data"
    }
   ],
   "metadata":{
    "datalore":{
     "node_id":"0EN2elTANWrB5EHn1AhgMR",
     "type":"CODE",
     "hide_input_from_viewers":true,
     "hide_output_from_viewers":true
    }
   }
  },
  {
   "cell_type":"code",
   "source":[
    "miasta = ['Poznań','Kraków','Rzeszów','Lublin']\n",
    "obj4 = pd.Series(sdata,index=miasta)\n",
    "obj4"
   ],
   "execution_count":13,
   "outputs":[
    {
     "data":{
      "text\/html":[
       "<pre>Poznań         NaN\n",
       "Kraków     38900.0\n",
       "Rzeszów        NaN\n",
       "Lublin     39876.0\n",
       "dtype: float64<\/pre>"
      ]
     },
     "metadata":{
      
     },
     "output_type":"display_data"
    }
   ],
   "metadata":{
    "datalore":{
     "node_id":"YncEHw16kXs1IfniSrZeum",
     "type":"CODE",
     "hide_input_from_viewers":true,
     "hide_output_from_viewers":true
    }
   }
  },
  {
   "cell_type":"code",
   "source":[
    "pd.isnull(obj4)"
   ],
   "execution_count":14,
   "outputs":[
    {
     "data":{
      "text\/html":[
       "<pre>Poznań      True\n",
       "Kraków     False\n",
       "Rzeszów     True\n",
       "Lublin     False\n",
       "dtype: bool<\/pre>"
      ]
     },
     "metadata":{
      
     },
     "output_type":"display_data"
    }
   ],
   "metadata":{
    "datalore":{
     "node_id":"Q5W6NzwNGrQVBE9ekz8meo",
     "type":"CODE",
     "hide_input_from_viewers":true,
     "hide_output_from_viewers":true
    }
   }
  },
  {
   "cell_type":"code",
   "source":[
    "obj3+obj4"
   ],
   "execution_count":15,
   "outputs":[
    {
     "data":{
      "text\/html":[
       "<pre>Gdańsk          NaN\n",
       "Kraków      77800.0\n",
       "Lublin      79752.0\n",
       "Poznań          NaN\n",
       "Rzeszów         NaN\n",
       "Warszawa        NaN\n",
       "dtype: float64<\/pre>"
      ]
     },
     "metadata":{
      
     },
     "output_type":"display_data"
    }
   ],
   "metadata":{
    "datalore":{
     "node_id":"OTInEDTcB4NQbik67RgypR",
     "type":"CODE",
     "hide_input_from_viewers":true,
     "hide_output_from_viewers":true
    }
   }
  },
  {
   "cell_type":"code",
   "source":[
    "obj4.name = 'liczba wniosków'\n",
    "obj4.index.name = 'miasta'\n",
    "obj4"
   ],
   "execution_count":16,
   "outputs":[
    {
     "data":{
      "text\/html":[
       "<pre>miasta\n",
       "Poznań         NaN\n",
       "Kraków     38900.0\n",
       "Rzeszów        NaN\n",
       "Lublin     39876.0\n",
       "Name: liczba wniosków, dtype: float64<\/pre>"
      ]
     },
     "metadata":{
      
     },
     "output_type":"display_data"
    }
   ],
   "metadata":{
    "datalore":{
     "node_id":"LJsnDSAeToJnV1GkjUHPqP",
     "type":"CODE",
     "hide_input_from_viewers":true,
     "hide_output_from_viewers":true
    }
   }
  },
  {
   "cell_type":"code",
   "source":[
    "#obiekt DataFrame\n",
    "data = {'miasto':['Warszawa','Warszawa','Warszawa','Kraków','Kraków','Kraków'],\n",
    "        'rok':[2017,2018,2019,2018,2019,2020],\n",
    "        'populacja':[2.7,2.75,3.05,0.85,0.9,1.01]}\n",
    "frame = pd.DataFrame(data)\n",
    "frame"
   ],
   "execution_count":17,
   "outputs":[
    {
     "data":{
      "text\/html":[
       "<div>\n",
       "<style scoped>\n",
       "    .dataframe tbody tr th:only-of-type {\n",
       "        vertical-align: middle;\n",
       "    }\n",
       "\n",
       "    .dataframe tbody tr th {\n",
       "        vertical-align: top;\n",
       "    }\n",
       "\n",
       "    .dataframe thead th {\n",
       "        text-align: right;\n",
       "    }\n",
       "<\/style>\n",
       "<table border=\"1\" class=\"dataframe\">\n",
       "  <thead>\n",
       "    <tr style=\"text-align: right;\">\n",
       "      <th><\/th>\n",
       "      <th>miasto<\/th>\n",
       "      <th>rok<\/th>\n",
       "      <th>populacja<\/th>\n",
       "    <\/tr>\n",
       "  <\/thead>\n",
       "  <tbody>\n",
       "    <tr>\n",
       "      <th>0<\/th>\n",
       "      <td>Warszawa<\/td>\n",
       "      <td>2017<\/td>\n",
       "      <td>2.70<\/td>\n",
       "    <\/tr>\n",
       "    <tr>\n",
       "      <th>1<\/th>\n",
       "      <td>Warszawa<\/td>\n",
       "      <td>2018<\/td>\n",
       "      <td>2.75<\/td>\n",
       "    <\/tr>\n",
       "    <tr>\n",
       "      <th>2<\/th>\n",
       "      <td>Warszawa<\/td>\n",
       "      <td>2019<\/td>\n",
       "      <td>3.05<\/td>\n",
       "    <\/tr>\n",
       "    <tr>\n",
       "      <th>3<\/th>\n",
       "      <td>Kraków<\/td>\n",
       "      <td>2018<\/td>\n",
       "      <td>0.85<\/td>\n",
       "    <\/tr>\n",
       "    <tr>\n",
       "      <th>4<\/th>\n",
       "      <td>Kraków<\/td>\n",
       "      <td>2019<\/td>\n",
       "      <td>0.90<\/td>\n",
       "    <\/tr>\n",
       "    <tr>\n",
       "      <th>5<\/th>\n",
       "      <td>Kraków<\/td>\n",
       "      <td>2020<\/td>\n",
       "      <td>1.01<\/td>\n",
       "    <\/tr>\n",
       "  <\/tbody>\n",
       "<\/table>\n",
       "<\/div>"
      ]
     },
     "metadata":{
      
     },
     "output_type":"display_data"
    }
   ],
   "metadata":{
    "datalore":{
     "node_id":"Sp9yxWS52lbnKWf7A5IlaK",
     "type":"CODE",
     "hide_input_from_viewers":true,
     "hide_output_from_viewers":true
    }
   }
  },
  {
   "cell_type":"code",
   "source":[
    "frame2 = pd.DataFrame(data,columns=['rok','miasto','populacja','wsp'],index=['jeden','dwa','trzy','cztery','pieć','sześć'])\n",
    "frame2"
   ],
   "execution_count":18,
   "outputs":[
    {
     "data":{
      "text\/html":[
       "<div>\n",
       "<style scoped>\n",
       "    .dataframe tbody tr th:only-of-type {\n",
       "        vertical-align: middle;\n",
       "    }\n",
       "\n",
       "    .dataframe tbody tr th {\n",
       "        vertical-align: top;\n",
       "    }\n",
       "\n",
       "    .dataframe thead th {\n",
       "        text-align: right;\n",
       "    }\n",
       "<\/style>\n",
       "<table border=\"1\" class=\"dataframe\">\n",
       "  <thead>\n",
       "    <tr style=\"text-align: right;\">\n",
       "      <th><\/th>\n",
       "      <th>rok<\/th>\n",
       "      <th>miasto<\/th>\n",
       "      <th>populacja<\/th>\n",
       "      <th>wsp<\/th>\n",
       "    <\/tr>\n",
       "  <\/thead>\n",
       "  <tbody>\n",
       "    <tr>\n",
       "      <th>jeden<\/th>\n",
       "      <td>2017<\/td>\n",
       "      <td>Warszawa<\/td>\n",
       "      <td>2.70<\/td>\n",
       "      <td>NaN<\/td>\n",
       "    <\/tr>\n",
       "    <tr>\n",
       "      <th>dwa<\/th>\n",
       "      <td>2018<\/td>\n",
       "      <td>Warszawa<\/td>\n",
       "      <td>2.75<\/td>\n",
       "      <td>NaN<\/td>\n",
       "    <\/tr>\n",
       "    <tr>\n",
       "      <th>trzy<\/th>\n",
       "      <td>2019<\/td>\n",
       "      <td>Warszawa<\/td>\n",
       "      <td>3.05<\/td>\n",
       "      <td>NaN<\/td>\n",
       "    <\/tr>\n",
       "    <tr>\n",
       "      <th>cztery<\/th>\n",
       "      <td>2018<\/td>\n",
       "      <td>Kraków<\/td>\n",
       "      <td>0.85<\/td>\n",
       "      <td>NaN<\/td>\n",
       "    <\/tr>\n",
       "    <tr>\n",
       "      <th>pieć<\/th>\n",
       "      <td>2019<\/td>\n",
       "      <td>Kraków<\/td>\n",
       "      <td>0.90<\/td>\n",
       "      <td>NaN<\/td>\n",
       "    <\/tr>\n",
       "    <tr>\n",
       "      <th>sześć<\/th>\n",
       "      <td>2020<\/td>\n",
       "      <td>Kraków<\/td>\n",
       "      <td>1.01<\/td>\n",
       "      <td>NaN<\/td>\n",
       "    <\/tr>\n",
       "  <\/tbody>\n",
       "<\/table>\n",
       "<\/div>"
      ]
     },
     "metadata":{
      
     },
     "output_type":"display_data"
    }
   ],
   "metadata":{
    "datalore":{
     "node_id":"5hvOFYfJtWVuFSgn5NZRlF",
     "type":"CODE",
     "hide_input_from_viewers":true,
     "hide_output_from_viewers":true
    }
   }
  },
  {
   "cell_type":"code",
   "source":[
    "frame2['miasto']"
   ],
   "execution_count":19,
   "outputs":[
    {
     "data":{
      "text\/html":[
       "<pre>jeden     Warszawa\n",
       "dwa       Warszawa\n",
       "trzy      Warszawa\n",
       "cztery      Kraków\n",
       "pieć        Kraków\n",
       "sześć       Kraków\n",
       "Name: miasto, dtype: object<\/pre>"
      ]
     },
     "metadata":{
      
     },
     "output_type":"display_data"
    }
   ],
   "metadata":{
    "datalore":{
     "node_id":"XDcIodHZBzo074eGLTzlac",
     "type":"CODE",
     "hide_input_from_viewers":true,
     "hide_output_from_viewers":true
    }
   }
  },
  {
   "cell_type":"code",
   "source":[
    "frame2.rok"
   ],
   "execution_count":20,
   "outputs":[
    {
     "data":{
      "text\/html":[
       "<pre>jeden     2017\n",
       "dwa       2018\n",
       "trzy      2019\n",
       "cztery    2018\n",
       "pieć      2019\n",
       "sześć     2020\n",
       "Name: rok, dtype: int64<\/pre>"
      ]
     },
     "metadata":{
      
     },
     "output_type":"display_data"
    }
   ],
   "metadata":{
    "datalore":{
     "node_id":"92BqE3Cuki7BvSxNlHAZl9",
     "type":"CODE",
     "hide_input_from_viewers":true,
     "hide_output_from_viewers":true
    }
   }
  },
  {
   "cell_type":"code",
   "source":[
    "frame2.wsp = 19.9\n",
    "frame2"
   ],
   "execution_count":21,
   "outputs":[
    {
     "data":{
      "text\/html":[
       "<div>\n",
       "<style scoped>\n",
       "    .dataframe tbody tr th:only-of-type {\n",
       "        vertical-align: middle;\n",
       "    }\n",
       "\n",
       "    .dataframe tbody tr th {\n",
       "        vertical-align: top;\n",
       "    }\n",
       "\n",
       "    .dataframe thead th {\n",
       "        text-align: right;\n",
       "    }\n",
       "<\/style>\n",
       "<table border=\"1\" class=\"dataframe\">\n",
       "  <thead>\n",
       "    <tr style=\"text-align: right;\">\n",
       "      <th><\/th>\n",
       "      <th>rok<\/th>\n",
       "      <th>miasto<\/th>\n",
       "      <th>populacja<\/th>\n",
       "      <th>wsp<\/th>\n",
       "    <\/tr>\n",
       "  <\/thead>\n",
       "  <tbody>\n",
       "    <tr>\n",
       "      <th>jeden<\/th>\n",
       "      <td>2017<\/td>\n",
       "      <td>Warszawa<\/td>\n",
       "      <td>2.70<\/td>\n",
       "      <td>19.9<\/td>\n",
       "    <\/tr>\n",
       "    <tr>\n",
       "      <th>dwa<\/th>\n",
       "      <td>2018<\/td>\n",
       "      <td>Warszawa<\/td>\n",
       "      <td>2.75<\/td>\n",
       "      <td>19.9<\/td>\n",
       "    <\/tr>\n",
       "    <tr>\n",
       "      <th>trzy<\/th>\n",
       "      <td>2019<\/td>\n",
       "      <td>Warszawa<\/td>\n",
       "      <td>3.05<\/td>\n",
       "      <td>19.9<\/td>\n",
       "    <\/tr>\n",
       "    <tr>\n",
       "      <th>cztery<\/th>\n",
       "      <td>2018<\/td>\n",
       "      <td>Kraków<\/td>\n",
       "      <td>0.85<\/td>\n",
       "      <td>19.9<\/td>\n",
       "    <\/tr>\n",
       "    <tr>\n",
       "      <th>pieć<\/th>\n",
       "      <td>2019<\/td>\n",
       "      <td>Kraków<\/td>\n",
       "      <td>0.90<\/td>\n",
       "      <td>19.9<\/td>\n",
       "    <\/tr>\n",
       "    <tr>\n",
       "      <th>sześć<\/th>\n",
       "      <td>2020<\/td>\n",
       "      <td>Kraków<\/td>\n",
       "      <td>1.01<\/td>\n",
       "      <td>19.9<\/td>\n",
       "    <\/tr>\n",
       "  <\/tbody>\n",
       "<\/table>\n",
       "<\/div>"
      ]
     },
     "metadata":{
      
     },
     "output_type":"display_data"
    }
   ],
   "metadata":{
    "datalore":{
     "node_id":"Baj4kSb1M11oO23KWpDWyZ",
     "type":"CODE",
     "hide_input_from_viewers":true,
     "hide_output_from_viewers":true
    }
   }
  },
  {
   "cell_type":"code",
   "source":[
    "frame2['wsp'] = np.arange(6.)\n",
    "frame2"
   ],
   "execution_count":22,
   "outputs":[
    {
     "data":{
      "text\/html":[
       "<div>\n",
       "<style scoped>\n",
       "    .dataframe tbody tr th:only-of-type {\n",
       "        vertical-align: middle;\n",
       "    }\n",
       "\n",
       "    .dataframe tbody tr th {\n",
       "        vertical-align: top;\n",
       "    }\n",
       "\n",
       "    .dataframe thead th {\n",
       "        text-align: right;\n",
       "    }\n",
       "<\/style>\n",
       "<table border=\"1\" class=\"dataframe\">\n",
       "  <thead>\n",
       "    <tr style=\"text-align: right;\">\n",
       "      <th><\/th>\n",
       "      <th>rok<\/th>\n",
       "      <th>miasto<\/th>\n",
       "      <th>populacja<\/th>\n",
       "      <th>wsp<\/th>\n",
       "    <\/tr>\n",
       "  <\/thead>\n",
       "  <tbody>\n",
       "    <tr>\n",
       "      <th>jeden<\/th>\n",
       "      <td>2017<\/td>\n",
       "      <td>Warszawa<\/td>\n",
       "      <td>2.70<\/td>\n",
       "      <td>0.0<\/td>\n",
       "    <\/tr>\n",
       "    <tr>\n",
       "      <th>dwa<\/th>\n",
       "      <td>2018<\/td>\n",
       "      <td>Warszawa<\/td>\n",
       "      <td>2.75<\/td>\n",
       "      <td>1.0<\/td>\n",
       "    <\/tr>\n",
       "    <tr>\n",
       "      <th>trzy<\/th>\n",
       "      <td>2019<\/td>\n",
       "      <td>Warszawa<\/td>\n",
       "      <td>3.05<\/td>\n",
       "      <td>2.0<\/td>\n",
       "    <\/tr>\n",
       "    <tr>\n",
       "      <th>cztery<\/th>\n",
       "      <td>2018<\/td>\n",
       "      <td>Kraków<\/td>\n",
       "      <td>0.85<\/td>\n",
       "      <td>3.0<\/td>\n",
       "    <\/tr>\n",
       "    <tr>\n",
       "      <th>pieć<\/th>\n",
       "      <td>2019<\/td>\n",
       "      <td>Kraków<\/td>\n",
       "      <td>0.90<\/td>\n",
       "      <td>4.0<\/td>\n",
       "    <\/tr>\n",
       "    <tr>\n",
       "      <th>sześć<\/th>\n",
       "      <td>2020<\/td>\n",
       "      <td>Kraków<\/td>\n",
       "      <td>1.01<\/td>\n",
       "      <td>5.0<\/td>\n",
       "    <\/tr>\n",
       "  <\/tbody>\n",
       "<\/table>\n",
       "<\/div>"
      ]
     },
     "metadata":{
      
     },
     "output_type":"display_data"
    }
   ],
   "metadata":{
    "datalore":{
     "node_id":"Fnbal4q7XTxwPZqER6EFPB",
     "type":"CODE",
     "hide_input_from_viewers":true,
     "hide_output_from_viewers":true
    }
   }
  }
 ],
 "metadata":{
  "kernelspec":{
   "display_name":"Python",
   "language":"python",
   "name":"python"
  },
  "datalore":{
   "computation_mode":"JUPYTER",
   "package_manager":"pip",
   "base_environment":"default",
   "packages":[
    
   ],
   "report_row_ids":[
    
   ],
   "version":3
  }
 },
 "nbformat":4,
 "nbformat_minor":4
}